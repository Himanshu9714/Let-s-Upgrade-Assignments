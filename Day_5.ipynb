{
  "nbformat": 4,
  "nbformat_minor": 0,
  "metadata": {
    "colab": {
      "name": "Day-5.ipynb",
      "provenance": []
    },
    "kernelspec": {
      "name": "python3",
      "display_name": "Python 3"
    }
  },
  "cells": [
    {
      "cell_type": "markdown",
      "metadata": {
        "id": "jBKhODdb2lUp"
      },
      "source": [
        "PRIME NUMBER"
      ]
    },
    {
      "cell_type": "code",
      "metadata": {
        "colab": {
          "base_uri": "https://localhost:8080/"
        },
        "id": "tgtBCHQg2iG_",
        "outputId": "5a1e2d97-7bf8-4c5b-d3dc-16c37949ee56"
      },
      "source": [
        "n = int(input(\"Enter number:\"))\r\n",
        "for i in range(2,n):\r\n",
        "  if n%i==0:\r\n",
        "    print(n,\"is not a prime number\")\r\n",
        "    break\r\n",
        "  else:\r\n",
        "    if (i+1) == n:\r\n",
        "      print(n,\"is a prime number\")\r\n",
        "    else:\r\n",
        "      continue"
      ],
      "execution_count": 9,
      "outputs": [
        {
          "output_type": "stream",
          "text": [
            "Enter number:104730\n",
            "104730 is not a prime number\n"
          ],
          "name": "stdout"
        }
      ]
    }
  ]
}